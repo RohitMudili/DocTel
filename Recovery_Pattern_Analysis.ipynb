{
 "cells": [
  {
   "cell_type": "code",
   "execution_count": 1,
   "id": "f6b78e10",
   "metadata": {},
   "outputs": [
    {
     "name": "stdout",
     "output_type": "stream",
     "text": [
      "Shape: (15000, 8)\n"
     ]
    },
    {
     "data": {
      "text/html": [
       "<div>\n",
       "<style scoped>\n",
       "    .dataframe tbody tr th:only-of-type {\n",
       "        vertical-align: middle;\n",
       "    }\n",
       "\n",
       "    .dataframe tbody tr th {\n",
       "        vertical-align: top;\n",
       "    }\n",
       "\n",
       "    .dataframe thead th {\n",
       "        text-align: right;\n",
       "    }\n",
       "</style>\n",
       "<table border=\"1\" class=\"dataframe\">\n",
       "  <thead>\n",
       "    <tr style=\"text-align: right;\">\n",
       "      <th></th>\n",
       "      <th>patient_id</th>\n",
       "      <th>day</th>\n",
       "      <th>pain_score</th>\n",
       "      <th>temperature</th>\n",
       "      <th>mood</th>\n",
       "      <th>sleep_hours</th>\n",
       "      <th>wound_check</th>\n",
       "      <th>recovery_flag</th>\n",
       "    </tr>\n",
       "  </thead>\n",
       "  <tbody>\n",
       "    <tr>\n",
       "      <th>0</th>\n",
       "      <td>L200001</td>\n",
       "      <td>1</td>\n",
       "      <td>6</td>\n",
       "      <td>98.2</td>\n",
       "      <td>Good</td>\n",
       "      <td>7</td>\n",
       "      <td>Clean</td>\n",
       "      <td>On Track</td>\n",
       "    </tr>\n",
       "    <tr>\n",
       "      <th>1</th>\n",
       "      <td>L200001</td>\n",
       "      <td>2</td>\n",
       "      <td>4</td>\n",
       "      <td>99.1</td>\n",
       "      <td>Anxious</td>\n",
       "      <td>8</td>\n",
       "      <td>Redness</td>\n",
       "      <td>At Risk</td>\n",
       "    </tr>\n",
       "    <tr>\n",
       "      <th>2</th>\n",
       "      <td>L200001</td>\n",
       "      <td>3</td>\n",
       "      <td>8</td>\n",
       "      <td>98.6</td>\n",
       "      <td>Low</td>\n",
       "      <td>6</td>\n",
       "      <td>Redness</td>\n",
       "      <td>At Risk</td>\n",
       "    </tr>\n",
       "    <tr>\n",
       "      <th>3</th>\n",
       "      <td>L200001</td>\n",
       "      <td>4</td>\n",
       "      <td>2</td>\n",
       "      <td>98.5</td>\n",
       "      <td>Good</td>\n",
       "      <td>7</td>\n",
       "      <td>Clean</td>\n",
       "      <td>On Track</td>\n",
       "    </tr>\n",
       "    <tr>\n",
       "      <th>4</th>\n",
       "      <td>L200001</td>\n",
       "      <td>5</td>\n",
       "      <td>1</td>\n",
       "      <td>98.5</td>\n",
       "      <td>Stable</td>\n",
       "      <td>6</td>\n",
       "      <td>Clean</td>\n",
       "      <td>On Track</td>\n",
       "    </tr>\n",
       "  </tbody>\n",
       "</table>\n",
       "</div>"
      ],
      "text/plain": [
       "  patient_id  day  pain_score  temperature     mood  sleep_hours wound_check  \\\n",
       "0    L200001    1           6         98.2     Good            7       Clean   \n",
       "1    L200001    2           4         99.1  Anxious            8     Redness   \n",
       "2    L200001    3           8         98.6      Low            6     Redness   \n",
       "3    L200001    4           2         98.5     Good            7       Clean   \n",
       "4    L200001    5           1         98.5   Stable            6       Clean   \n",
       "\n",
       "  recovery_flag  \n",
       "0      On Track  \n",
       "1       At Risk  \n",
       "2       At Risk  \n",
       "3      On Track  \n",
       "4      On Track  "
      ]
     },
     "execution_count": 1,
     "metadata": {},
     "output_type": "execute_result"
    }
   ],
   "source": [
    "# Load recovery logs dataset\n",
    "import pandas as pd\n",
    "\n",
    "df = pd.read_csv('recovery_logs.csv')\n",
    "df = df.sort_values(by=['patient_id', 'day'])\n",
    "\n",
    "print(\"Shape:\", df.shape)\n",
    "df.head()\n"
   ]
  },
  {
   "cell_type": "code",
   "execution_count": 2,
   "id": "eb950b83",
   "metadata": {},
   "outputs": [
    {
     "name": "stdout",
     "output_type": "stream",
     "text": [
      "<class 'pandas.core.frame.DataFrame'>\n",
      "RangeIndex: 15000 entries, 0 to 14999\n",
      "Data columns (total 8 columns):\n",
      " #   Column         Non-Null Count  Dtype  \n",
      "---  ------         --------------  -----  \n",
      " 0   patient_id     15000 non-null  object \n",
      " 1   day            15000 non-null  int64  \n",
      " 2   pain_score     15000 non-null  int64  \n",
      " 3   temperature    15000 non-null  float64\n",
      " 4   mood           15000 non-null  object \n",
      " 5   sleep_hours    15000 non-null  int64  \n",
      " 6   wound_check    15000 non-null  object \n",
      " 7   recovery_flag  15000 non-null  object \n",
      "dtypes: float64(1), int64(3), object(4)\n",
      "memory usage: 937.6+ KB\n",
      "None\n",
      "\n",
      "Missing values:\n",
      " patient_id       0\n",
      "day              0\n",
      "pain_score       0\n",
      "temperature      0\n",
      "mood             0\n",
      "sleep_hours      0\n",
      "wound_check      0\n",
      "recovery_flag    0\n",
      "dtype: int64\n",
      "\n",
      "Class Distribution:\n",
      " recovery_flag\n",
      "At Risk     9139\n",
      "On Track    5861\n",
      "Name: count, dtype: int64\n"
     ]
    }
   ],
   "source": [
    "# Check data types, missing values, and class distribution\n",
    "print(df.info())\n",
    "print(\"\\nMissing values:\\n\", df.isnull().sum())\n",
    "print(\"\\nClass Distribution:\\n\", df['recovery_flag'].value_counts())\n"
   ]
  },
  {
   "cell_type": "code",
   "execution_count": 3,
   "id": "07ddbfa9",
   "metadata": {},
   "outputs": [
    {
     "data": {
      "image/png": "[encoded data removed]",
      "text/plain": [
       "<Figure size 640x480 with 1 Axes>"
      ]
     },
     "metadata": {},
     "output_type": "display_data"
    }
   ],
   "source": [
    "import matplotlib.pyplot as plt\n",
    "\n",
    "sample_id = df['patient_id'].unique()[0]\n",
    "sample = df[df['patient_id'] == sample_id]\n",
    "\n",
    "plt.plot(sample['day'], sample['pain_score'], label='Pain')\n",
    "plt.plot(sample['day'], sample['temperature'], label='Temp')\n",
    "plt.title(f\"Recovery Trend: Patient {sample_id}\")\n",
    "plt.xlabel('Day')\n",
    "plt.ylabel('Value')\n",
    "plt.legend()\n",
    "plt.grid()\n",
    "plt.show()\n"
   ]
  },
  {
   "cell_type": "code",
   "execution_count": 4,
   "id": "5e8b6812",
   "metadata": {},
   "outputs": [
    {
     "data": {
      "image/png": "[encoded data removed]",
      "text/plain": [
       "<Figure size 640x480 with 1 Axes>"
      ]
     },
     "metadata": {},
     "output_type": "display_data"
    },
    {
     "data": {
      "image/png": "[encoded data removed]",
      "text/plain": [
       "<Figure size 640x480 with 1 Axes>"
      ]
     },
     "metadata": {},
     "output_type": "display_data"
    }
   ],
   "source": [
    "import seaborn as sns\n",
    "\n",
    "sns.boxplot(data=df, x='recovery_flag', y='pain_score')\n",
    "plt.title('Pain Score by Recovery Status')\n",
    "plt.show()\n",
    "\n",
    "sns.boxplot(data=df, x='recovery_flag', y='temperature')\n",
    "plt.title('Temperature by Recovery Status')\n",
    "plt.show()\n"
   ]
  },
  {
   "cell_type": "code",
   "execution_count": 5,
   "id": "e013d688",
   "metadata": {},
   "outputs": [],
   "source": [
    "from sklearn.preprocessing import LabelEncoder\n",
    "\n",
    "df_encoded = df.copy()\n",
    "label_cols = ['mood', 'wound_check', 'recovery_flag']\n",
    "encoders = {}\n",
    "\n",
    "for col in label_cols:\n",
    "    le = LabelEncoder()\n",
    "    df_encoded[col] = le.fit_transform(df_encoded[col])\n",
    "    encoders[col] = le\n",
    "\n",
    "df_encoded['pain_roll3'] = df_encoded.groupby('patient_id')['pain_score'].transform(lambda x: x.rolling(3, min_periods=1).mean())\n",
    "df_encoded['temp_roll3'] = df_encoded.groupby('patient_id')['temperature'].transform(lambda x: x.rolling(3, min_periods=1).mean())\n"
   ]
  },
  {
   "cell_type": "code",
   "execution_count": 6,
   "id": "0f3c85cc",
   "metadata": {},
   "outputs": [
    {
     "name": "stdout",
     "output_type": "stream",
     "text": [
      "Next 5 Days Pain Forecast:\n",
      " 30    3.990787\n",
      "31    3.841555\n",
      "32    3.864032\n",
      "33    3.860646\n",
      "34    3.861156\n",
      "Name: predicted_mean, dtype: float64\n"
     ]
    }
   ],
   "source": [
    "from statsmodels.tsa.arima.model import ARIMA\n",
    "import warnings\n",
    "warnings.filterwarnings(\"ignore\")\n",
    "\n",
    "# Fit ARIMA to pain score of one patient\n",
    "sample_series = sample.set_index('day')['pain_score']\n",
    "model = ARIMA(sample_series, order=(1, 1, 1)).fit()\n",
    "forecast = model.forecast(steps=5)\n",
    "print(\"Next 5 Days Pain Forecast:\\n\", forecast)\n"
   ]
  },
  {
   "cell_type": "code",
   "execution_count": 7,
   "id": "cfc0a5b8",
   "metadata": {},
   "outputs": [
    {
     "name": "stdout",
     "output_type": "stream",
     "text": [
      "Random Forest Results:\n",
      "              precision    recall  f1-score   support\n",
      "\n",
      "           0       0.67      0.69      0.68      1794\n",
      "           1       0.51      0.48      0.50      1206\n",
      "\n",
      "    accuracy                           0.61      3000\n",
      "   macro avg       0.59      0.59      0.59      3000\n",
      "weighted avg       0.60      0.61      0.60      3000\n",
      "\n"
     ]
    }
   ],
   "source": [
    "from sklearn.ensemble import RandomForestClassifier\n",
    "from sklearn.model_selection import train_test_split\n",
    "from sklearn.metrics import classification_report\n",
    "from sklearn.preprocessing import StandardScaler\n",
    "\n",
    "features = ['pain_score', 'temperature', 'sleep_hours', 'pain_roll3', 'temp_roll3']\n",
    "X = df_encoded[features]\n",
    "y = df_encoded['recovery_flag']\n",
    "\n",
    "scaler = StandardScaler()\n",
    "X_scaled = scaler.fit_transform(X)\n",
    "\n",
    "X_train, X_test, y_train, y_test = train_test_split(X_scaled, y, test_size=0.2, random_state=42)\n",
    "\n",
    "rf = RandomForestClassifier(n_estimators=100, class_weight='balanced')\n",
    "rf.fit(X_train, y_train)\n",
    "y_pred_rf = rf.predict(X_test)\n",
    "\n",
    "print(\"Random Forest Results:\")\n",
    "print(classification_report(y_test, y_pred_rf))\n"
   ]
  },
  {
   "cell_type": "code",
   "execution_count": 8,
   "id": "b79948ff",
   "metadata": {},
   "outputs": [
    {
     "name": "stdout",
     "output_type": "stream",
     "text": [
      "Random Forest Results:\n",
      "              precision    recall  f1-score   support\n",
      "\n",
      "           0       0.67      0.70      0.68      1794\n",
      "           1       0.52      0.49      0.50      1206\n",
      "\n",
      "    accuracy                           0.61      3000\n",
      "   macro avg       0.59      0.59      0.59      3000\n",
      "weighted avg       0.61      0.61      0.61      3000\n",
      "\n"
     ]
    }
   ],
   "source": [
    "from sklearn.ensemble import RandomForestClassifier\n",
    "from sklearn.model_selection import train_test_split\n",
    "from sklearn.metrics import classification_report\n",
    "from sklearn.preprocessing import StandardScaler\n",
    "\n",
    "features = ['pain_score', 'temperature', 'sleep_hours', 'pain_roll3', 'temp_roll3']\n",
    "X = df_encoded[features]\n",
    "y = df_encoded['recovery_flag']\n",
    "\n",
    "scaler = StandardScaler()\n",
    "X_scaled = scaler.fit_transform(X)\n",
    "\n",
    "X_train, X_test, y_train, y_test = train_test_split(X_scaled, y, test_size=0.2, random_state=42)\n",
    "\n",
    "rf = RandomForestClassifier(n_estimators=100, class_weight='balanced')\n",
    "rf.fit(X_train, y_train)\n",
    "y_pred_rf = rf.predict(X_test)\n",
    "\n",
    "print(\"Random Forest Results:\")\n",
    "print(classification_report(y_test, y_pred_rf))\n"
   ]
  },
  {
   "cell_type": "code",
   "execution_count": 9,
   "id": "0c3df311",
   "metadata": {},
   "outputs": [
    {
     "ename": "NameError",
     "evalue": "name 'GridSearchCV' is not defined",
     "output_type": "error",
     "traceback": [
      "\u001b[31m---------------------------------------------------------------------------\u001b[39m",
      "\u001b[31mNameError\u001b[39m                                 Traceback (most recent call last)",
      "\u001b[36mCell\u001b[39m\u001b[36m \u001b[39m\u001b[32mIn[9]\u001b[39m\u001b[32m, line 11\u001b[39m\n\u001b[32m      3\u001b[39m \u001b[38;5;66;03m# Define parameter grid\u001b[39;00m\n\u001b[32m      4\u001b[39m gb_param_grid = {\n\u001b[32m      5\u001b[39m     \u001b[33m'\u001b[39m\u001b[33mn_estimators\u001b[39m\u001b[33m'\u001b[39m: [\u001b[32m100\u001b[39m, \u001b[32m200\u001b[39m],\n\u001b[32m      6\u001b[39m     \u001b[33m'\u001b[39m\u001b[33mlearning_rate\u001b[39m\u001b[33m'\u001b[39m: [\u001b[32m0.05\u001b[39m, \u001b[32m0.1\u001b[39m, \u001b[32m0.2\u001b[39m],\n\u001b[32m      7\u001b[39m     \u001b[33m'\u001b[39m\u001b[33mmax_depth\u001b[39m\u001b[33m'\u001b[39m: [\u001b[32m3\u001b[39m, \u001b[32m5\u001b[39m, \u001b[32m7\u001b[39m],\n\u001b[32m      8\u001b[39m     \u001b[33m'\u001b[39m\u001b[33msubsample\u001b[39m\u001b[33m'\u001b[39m: [\u001b[32m0.8\u001b[39m, \u001b[32m1.0\u001b[39m]\n\u001b[32m      9\u001b[39m }\n\u001b[32m---> \u001b[39m\u001b[32m11\u001b[39m gb_grid = \u001b[43mGridSearchCV\u001b[49m(\n\u001b[32m     12\u001b[39m     estimator=GradientBoostingClassifier(random_state=\u001b[32m42\u001b[39m),\n\u001b[32m     13\u001b[39m     param_grid=gb_param_grid,\n\u001b[32m     14\u001b[39m     scoring=\u001b[33m'\u001b[39m\u001b[33mf1\u001b[39m\u001b[33m'\u001b[39m,\n\u001b[32m     15\u001b[39m     cv=\u001b[32m3\u001b[39m,\n\u001b[32m     16\u001b[39m     n_jobs=-\u001b[32m1\u001b[39m,\n\u001b[32m     17\u001b[39m     verbose=\u001b[32m2\u001b[39m\n\u001b[32m     18\u001b[39m )\n\u001b[32m     20\u001b[39m gb_grid.fit(X_train, y_train)\n\u001b[32m     21\u001b[39m \u001b[38;5;28mprint\u001b[39m(\u001b[33m\"\u001b[39m\u001b[33mBest Gradient Boosting Parameters:\u001b[39m\u001b[33m\"\u001b[39m, gb_grid.best_params_)\n",
      "\u001b[31mNameError\u001b[39m: name 'GridSearchCV' is not defined"
     ]
    }
   ],
   "source": [
    "from sklearn.ensemble import GradientBoostingClassifier\n",
    "\n",
    "# Define parameter grid\n",
    "gb_param_grid = {\n",
    "    'n_estimators': [100, 200],\n",
    "    'learning_rate': [0.05, 0.1, 0.2],\n",
    "    'max_depth': [3, 5, 7],\n",
    "    'subsample': [0.8, 1.0]\n",
    "}\n",
    "\n",
    "gb_grid = GridSearchCV(\n",
    "    estimator=GradientBoostingClassifier(random_state=42),\n",
    "    param_grid=gb_param_grid,\n",
    "    scoring='f1',\n",
    "    cv=3,\n",
    "    n_jobs=-1,\n",
    "    verbose=2\n",
    ")\n",
    "\n",
    "gb_grid.fit(X_train, y_train)\n",
    "print(\"Best Gradient Boosting Parameters:\", gb_grid.best_params_)\n",
    "print(\"Best GB F1 Score:\", gb_grid.best_score_)\n",
    "\n",
    "# Evaluate best model\n",
    "best_gb = gb_grid.best_estimator_\n",
    "y_pred_gb_best = best_gb.predict(X_test)\n",
    "print(classification_report(y_test, y_pred_gb_best))\n"
   ]
  },
  {
   "cell_type": "code",
   "execution_count": null,
   "id": "676b3d29",
   "metadata": {},
   "outputs": [
    {
     "name": "stdout",
     "output_type": "stream",
     "text": [
      "Gradient Boosting Results:\n",
      "              precision    recall  f1-score   support\n",
      "\n",
      "           0       0.66      0.70      0.68      1794\n",
      "           1       0.50      0.45      0.48      1206\n",
      "\n",
      "    accuracy                           0.60      3000\n",
      "   macro avg       0.58      0.58      0.58      3000\n",
      "weighted avg       0.59      0.60      0.60      3000\n",
      "\n"
     ]
    }
   ],
   "source": [
    "from sklearn.ensemble import GradientBoostingClassifier\n",
    "\n",
    "gb = GradientBoostingClassifier()\n",
    "gb.fit(X_train, y_train)\n",
    "y_pred_gb = gb.predict(X_test)\n",
    "\n",
    "print(\"Gradient Boosting Results:\")\n",
    "print(classification_report(y_test, y_pred_gb))\n"
   ]
  },
  {
   "cell_type": "code",
   "execution_count": null,
   "id": "3b54170c",
   "metadata": {},
   "outputs": [
    {
     "name": "stdout",
     "output_type": "stream",
     "text": [
      "Epoch 1/100\n",
      "\u001b[1m5/5\u001b[0m \u001b[32m━━━━━━━━━━━━━━━━━━━━\u001b[0m\u001b[37m\u001b[0m \u001b[1m1s\u001b[0m 68ms/step - accuracy: 0.6022 - loss: 0.6848 - val_accuracy: 0.6625 - val_loss: 0.6741\n",
      "Epoch 2/100\n",
      "\u001b[1m5/5\u001b[0m \u001b[32m━━━━━━━━━━━━━━━━━━━━\u001b[0m\u001b[37m\u001b[0m \u001b[1m0s\u001b[0m 24ms/step - accuracy: 0.6156 - loss: 0.6691 - val_accuracy: 0.6625 - val_loss: 0.6628\n",
      "Epoch 3/100\n",
      "\u001b[1m5/5\u001b[0m \u001b[32m━━━━━━━━━━━━━━━━━━━━\u001b[0m\u001b[37m\u001b[0m \u001b[1m0s\u001b[0m 23ms/step - accuracy: 0.5933 - loss: 0.6746 - val_accuracy: 0.6625 - val_loss: 0.6550\n",
      "Epoch 4/100\n",
      "\u001b[1m5/5\u001b[0m \u001b[32m━━━━━━━━━━━━━━━━━━━━\u001b[0m\u001b[37m\u001b[0m \u001b[1m0s\u001b[0m 23ms/step - accuracy: 0.5864 - loss: 0.6628 - val_accuracy: 0.6625 - val_loss: 0.6494\n",
      "Epoch 5/100\n",
      "\u001b[1m5/5\u001b[0m \u001b[32m━━━━━━━━━━━━━━━━━━━━\u001b[0m\u001b[37m\u001b[0m \u001b[1m0s\u001b[0m 23ms/step - accuracy: 0.6494 - loss: 0.6369 - val_accuracy: 0.6625 - val_loss: 0.6450\n",
      "Epoch 6/100\n",
      "\u001b[1m5/5\u001b[0m \u001b[32m━━━━━━━━━━━━━━━━━━━━\u001b[0m\u001b[37m\u001b[0m \u001b[1m0s\u001b[0m 23ms/step - accuracy: 0.6000 - loss: 0.6583 - val_accuracy: 0.6625 - val_loss: 0.6446\n",
      "Epoch 7/100\n",
      "\u001b[1m5/5\u001b[0m \u001b[32m━━━━━━━━━━━━━━━━━━━━\u001b[0m\u001b[37m\u001b[0m \u001b[1m0s\u001b[0m 23ms/step - accuracy: 0.6208 - loss: 0.6397 - val_accuracy: 0.6625 - val_loss: 0.6444\n",
      "Epoch 8/100\n",
      "\u001b[1m5/5\u001b[0m \u001b[32m━━━━━━━━━━━━━━━━━━━━\u001b[0m\u001b[37m\u001b[0m \u001b[1m0s\u001b[0m 23ms/step - accuracy: 0.6102 - loss: 0.6544 - val_accuracy: 0.6625 - val_loss: 0.6436\n",
      "Epoch 9/100\n",
      "\u001b[1m5/5\u001b[0m \u001b[32m━━━━━━━━━━━━━━━━━━━━\u001b[0m\u001b[37m\u001b[0m \u001b[1m0s\u001b[0m 24ms/step - accuracy: 0.5870 - loss: 0.6520 - val_accuracy: 0.6625 - val_loss: 0.6420\n",
      "Epoch 10/100\n",
      "\u001b[1m5/5\u001b[0m \u001b[32m━━━━━━━━━━━━━━━━━━━━\u001b[0m\u001b[37m\u001b[0m \u001b[1m0s\u001b[0m 27ms/step - accuracy: 0.6243 - loss: 0.6116 - val_accuracy: 0.6625 - val_loss: 0.6372\n",
      "Epoch 11/100\n",
      "\u001b[1m5/5\u001b[0m \u001b[32m━━━━━━━━━━━━━━━━━━━━\u001b[0m\u001b[37m\u001b[0m \u001b[1m0s\u001b[0m 23ms/step - accuracy: 0.6289 - loss: 0.6150 - val_accuracy: 0.6625 - val_loss: 0.6339\n",
      "Epoch 12/100\n",
      "\u001b[1m5/5\u001b[0m \u001b[32m━━━━━━━━━━━━━━━━━━━━\u001b[0m\u001b[37m\u001b[0m \u001b[1m0s\u001b[0m 23ms/step - accuracy: 0.5959 - loss: 0.6269 - val_accuracy: 0.6625 - val_loss: 0.6359\n",
      "Epoch 13/100\n",
      "\u001b[1m5/5\u001b[0m \u001b[32m━━━━━━━━━━━━━━━━━━━━\u001b[0m\u001b[37m\u001b[0m \u001b[1m0s\u001b[0m 25ms/step - accuracy: 0.6181 - loss: 0.6274 - val_accuracy: 0.6500 - val_loss: 0.6364\n",
      "Epoch 14/100\n",
      "\u001b[1m5/5\u001b[0m \u001b[32m━━━━━━━━━━━━━━━━━━━━\u001b[0m\u001b[37m\u001b[0m \u001b[1m0s\u001b[0m 24ms/step - accuracy: 0.6119 - loss: 0.6186 - val_accuracy: 0.6250 - val_loss: 0.6368\n",
      "Epoch 15/100\n",
      "\u001b[1m5/5\u001b[0m \u001b[32m━━━━━━━━━━━━━━━━━━━━\u001b[0m\u001b[37m\u001b[0m \u001b[1m0s\u001b[0m 23ms/step - accuracy: 0.6235 - loss: 0.6035 - val_accuracy: 0.6500 - val_loss: 0.6334\n",
      "Epoch 16/100\n",
      "\u001b[1m5/5\u001b[0m \u001b[32m━━━━━━━━━━━━━━━━━━━━\u001b[0m\u001b[37m\u001b[0m \u001b[1m0s\u001b[0m 23ms/step - accuracy: 0.6048 - loss: 0.5927 - val_accuracy: 0.6250 - val_loss: 0.6301\n",
      "Epoch 17/100\n",
      "\u001b[1m5/5\u001b[0m \u001b[32m━━━━━━━━━━━━━━━━━━━━\u001b[0m\u001b[37m\u001b[0m \u001b[1m0s\u001b[0m 24ms/step - accuracy: 0.6536 - loss: 0.5876 - val_accuracy: 0.6625 - val_loss: 0.6286\n",
      "Epoch 18/100\n",
      "\u001b[1m5/5\u001b[0m \u001b[32m━━━━━━━━━━━━━━━━━━━━\u001b[0m\u001b[37m\u001b[0m \u001b[1m0s\u001b[0m 24ms/step - accuracy: 0.6237 - loss: 0.5817 - val_accuracy: 0.6625 - val_loss: 0.6268\n",
      "Epoch 19/100\n",
      "\u001b[1m5/5\u001b[0m \u001b[32m━━━━━━━━━━━━━━━━━━━━\u001b[0m\u001b[37m\u001b[0m \u001b[1m0s\u001b[0m 23ms/step - accuracy: 0.6336 - loss: 0.5758 - val_accuracy: 0.6625 - val_loss: 0.6268\n",
      "Epoch 20/100\n",
      "\u001b[1m5/5\u001b[0m \u001b[32m━━━━━━━━━━━━━━━━━━━━\u001b[0m\u001b[37m\u001b[0m \u001b[1m0s\u001b[0m 23ms/step - accuracy: 0.6256 - loss: 0.6068 - val_accuracy: 0.6375 - val_loss: 0.6228\n",
      "Epoch 21/100\n",
      "\u001b[1m5/5\u001b[0m \u001b[32m━━━━━━━━━━━━━━━━━━━━\u001b[0m\u001b[37m\u001b[0m \u001b[1m0s\u001b[0m 23ms/step - accuracy: 0.7093 - loss: 0.5497 - val_accuracy: 0.6250 - val_loss: 0.6240\n",
      "Epoch 22/100\n",
      "\u001b[1m5/5\u001b[0m \u001b[32m━━━━━━━━━━━━━━━━━━━━\u001b[0m\u001b[37m\u001b[0m \u001b[1m0s\u001b[0m 26ms/step - accuracy: 0.6778 - loss: 0.5670 - val_accuracy: 0.6250 - val_loss: 0.6237\n",
      "Epoch 23/100\n",
      "\u001b[1m5/5\u001b[0m \u001b[32m━━━━━━━━━━━━━━━━━━━━\u001b[0m\u001b[37m\u001b[0m \u001b[1m0s\u001b[0m 28ms/step - accuracy: 0.6439 - loss: 0.5723 - val_accuracy: 0.5875 - val_loss: 0.6249\n",
      "Epoch 24/100\n",
      "\u001b[1m5/5\u001b[0m \u001b[32m━━━━━━━━━━━━━━━━━━━━\u001b[0m\u001b[37m\u001b[0m \u001b[1m0s\u001b[0m 25ms/step - accuracy: 0.6480 - loss: 0.5473 - val_accuracy: 0.6000 - val_loss: 0.6273\n",
      "Epoch 25/100\n",
      "\u001b[1m5/5\u001b[0m \u001b[32m━━━━━━━━━━━━━━━━━━━━\u001b[0m\u001b[37m\u001b[0m \u001b[1m0s\u001b[0m 25ms/step - accuracy: 0.6434 - loss: 0.5755 - val_accuracy: 0.6000 - val_loss: 0.6258\n",
      "Epoch 26/100\n",
      "\u001b[1m5/5\u001b[0m \u001b[32m━━━━━━━━━━━━━━━━━━━━\u001b[0m\u001b[37m\u001b[0m \u001b[1m0s\u001b[0m 25ms/step - accuracy: 0.7082 - loss: 0.5337 - val_accuracy: 0.5875 - val_loss: 0.6345\n",
      "Epoch 27/100\n",
      "\u001b[1m5/5\u001b[0m \u001b[32m━━━━━━━━━━━━━━━━━━━━\u001b[0m\u001b[37m\u001b[0m \u001b[1m0s\u001b[0m 25ms/step - accuracy: 0.6960 - loss: 0.5302 - val_accuracy: 0.6125 - val_loss: 0.6412\n",
      "Epoch 28/100\n",
      "\u001b[1m5/5\u001b[0m \u001b[32m━━━━━━━━━━━━━━━━━━━━\u001b[0m\u001b[37m\u001b[0m \u001b[1m0s\u001b[0m 25ms/step - accuracy: 0.7033 - loss: 0.5285 - val_accuracy: 0.6250 - val_loss: 0.6571\n",
      "Epoch 29/100\n",
      "\u001b[1m5/5\u001b[0m \u001b[32m━━━━━━━━━━━━━━━━━━━━\u001b[0m\u001b[37m\u001b[0m \u001b[1m0s\u001b[0m 29ms/step - accuracy: 0.6650 - loss: 0.5267 - val_accuracy: 0.6000 - val_loss: 0.6467\n",
      "Epoch 30/100\n",
      "\u001b[1m5/5\u001b[0m \u001b[32m━━━━━━━━━━━━━━━━━━━━\u001b[0m\u001b[37m\u001b[0m \u001b[1m0s\u001b[0m 25ms/step - accuracy: 0.7181 - loss: 0.4927 - val_accuracy: 0.6125 - val_loss: 0.6434\n",
      "Epoch 31/100\n",
      "\u001b[1m5/5\u001b[0m \u001b[32m━━━━━━━━━━━━━━━━━━━━\u001b[0m\u001b[37m\u001b[0m \u001b[1m0s\u001b[0m 25ms/step - accuracy: 0.6676 - loss: 0.5139 - val_accuracy: 0.6000 - val_loss: 0.6619\n",
      "Epoch 32/100\n",
      "\u001b[1m5/5\u001b[0m \u001b[32m━━━━━━━━━━━━━━━━━━━━\u001b[0m\u001b[37m\u001b[0m \u001b[1m0s\u001b[0m 25ms/step - accuracy: 0.7241 - loss: 0.4899 - val_accuracy: 0.6125 - val_loss: 0.6705\n",
      "Epoch 33/100\n",
      "\u001b[1m5/5\u001b[0m \u001b[32m━━━━━━━━━━━━━━━━━━━━\u001b[0m\u001b[37m\u001b[0m \u001b[1m0s\u001b[0m 25ms/step - accuracy: 0.7131 - loss: 0.4895 - val_accuracy: 0.5875 - val_loss: 0.6404\n",
      "Epoch 34/100\n",
      "\u001b[1m5/5\u001b[0m \u001b[32m━━━━━━━━━━━━━━━━━━━━\u001b[0m\u001b[37m\u001b[0m \u001b[1m0s\u001b[0m 23ms/step - accuracy: 0.7617 - loss: 0.4770 - val_accuracy: 0.5875 - val_loss: 0.6641\n",
      "Epoch 35/100\n",
      "\u001b[1m5/5\u001b[0m \u001b[32m━━━━━━━━━━━━━━━━━━━━\u001b[0m\u001b[37m\u001b[0m \u001b[1m0s\u001b[0m 22ms/step - accuracy: 0.7322 - loss: 0.4780 - val_accuracy: 0.6000 - val_loss: 0.7122\n",
      "Epoch 36/100\n",
      "\u001b[1m5/5\u001b[0m \u001b[32m━━━━━━━━━━━━━━━━━━━━\u001b[0m\u001b[37m\u001b[0m \u001b[1m0s\u001b[0m 23ms/step - accuracy: 0.7683 - loss: 0.4345 - val_accuracy: 0.6000 - val_loss: 0.7279\n",
      "Epoch 37/100\n",
      "\u001b[1m5/5\u001b[0m \u001b[32m━━━━━━━━━━━━━━━━━━━━\u001b[0m\u001b[37m\u001b[0m \u001b[1m0s\u001b[0m 23ms/step - accuracy: 0.7550 - loss: 0.4511 - val_accuracy: 0.6125 - val_loss: 0.7148\n",
      "Epoch 38/100\n",
      "\u001b[1m5/5\u001b[0m \u001b[32m━━━━━━━━━━━━━━━━━━━━\u001b[0m\u001b[37m\u001b[0m \u001b[1m0s\u001b[0m 23ms/step - accuracy: 0.7566 - loss: 0.4483 - val_accuracy: 0.6250 - val_loss: 0.6939\n",
      "Epoch 39/100\n",
      "\u001b[1m5/5\u001b[0m \u001b[32m━━━━━━━━━━━━━━━━━━━━\u001b[0m\u001b[37m\u001b[0m \u001b[1m0s\u001b[0m 23ms/step - accuracy: 0.7618 - loss: 0.4804 - val_accuracy: 0.6000 - val_loss: 0.7493\n",
      "Epoch 40/100\n",
      "\u001b[1m5/5\u001b[0m \u001b[32m━━━━━━━━━━━━━━━━━━━━\u001b[0m\u001b[37m\u001b[0m \u001b[1m0s\u001b[0m 23ms/step - accuracy: 0.7344 - loss: 0.4600 - val_accuracy: 0.6125 - val_loss: 0.7213\n",
      "Epoch 41/100\n",
      "\u001b[1m5/5\u001b[0m \u001b[32m━━━━━━━━━━━━━━━━━━━━\u001b[0m\u001b[37m\u001b[0m \u001b[1m0s\u001b[0m 23ms/step - accuracy: 0.7593 - loss: 0.4365 - val_accuracy: 0.6250 - val_loss: 0.7001\n",
      "Epoch 42/100\n",
      "\u001b[1m5/5\u001b[0m \u001b[32m━━━━━━━━━━━━━━━━━━━━\u001b[0m\u001b[37m\u001b[0m \u001b[1m0s\u001b[0m 23ms/step - accuracy: 0.7627 - loss: 0.4394 - val_accuracy: 0.6125 - val_loss: 0.7700\n",
      "Epoch 43/100\n",
      "\u001b[1m5/5\u001b[0m \u001b[32m━━━━━━━━━━━━━━━━━━━━\u001b[0m\u001b[37m\u001b[0m \u001b[1m0s\u001b[0m 23ms/step - accuracy: 0.7734 - loss: 0.4095 - val_accuracy: 0.5750 - val_loss: 0.9262\n",
      "Epoch 44/100\n",
      "\u001b[1m5/5\u001b[0m \u001b[32m━━━━━━━━━━━━━━━━━━━━\u001b[0m\u001b[37m\u001b[0m \u001b[1m0s\u001b[0m 23ms/step - accuracy: 0.7897 - loss: 0.3939 - val_accuracy: 0.6250 - val_loss: 0.7360\n",
      "Epoch 45/100\n",
      "\u001b[1m5/5\u001b[0m \u001b[32m━━━━━━━━━━━━━━━━━━━━\u001b[0m\u001b[37m\u001b[0m \u001b[1m0s\u001b[0m 24ms/step - accuracy: 0.8046 - loss: 0.4059 - val_accuracy: 0.6375 - val_loss: 0.7099\n",
      "Epoch 46/100\n",
      "\u001b[1m5/5\u001b[0m \u001b[32m━━━━━━━━━━━━━━━━━━━━\u001b[0m\u001b[37m\u001b[0m \u001b[1m0s\u001b[0m 24ms/step - accuracy: 0.7999 - loss: 0.4034 - val_accuracy: 0.6250 - val_loss: 0.8827\n",
      "Epoch 47/100\n",
      "\u001b[1m5/5\u001b[0m \u001b[32m━━━━━━━━━━━━━━━━━━━━\u001b[0m\u001b[37m\u001b[0m \u001b[1m0s\u001b[0m 24ms/step - accuracy: 0.7970 - loss: 0.3715 - val_accuracy: 0.6250 - val_loss: 0.9574\n",
      "Epoch 48/100\n",
      "\u001b[1m5/5\u001b[0m \u001b[32m━━━━━━━━━━━━━━━━━━━━\u001b[0m\u001b[37m\u001b[0m \u001b[1m0s\u001b[0m 24ms/step - accuracy: 0.8111 - loss: 0.3726 - val_accuracy: 0.6250 - val_loss: 1.0090\n",
      "Epoch 49/100\n",
      "\u001b[1m5/5\u001b[0m \u001b[32m━━━━━━━━━━━━━━━━━━━━\u001b[0m\u001b[37m\u001b[0m \u001b[1m0s\u001b[0m 24ms/step - accuracy: 0.8123 - loss: 0.3549 - val_accuracy: 0.6625 - val_loss: 0.8778\n",
      "Epoch 50/100\n",
      "\u001b[1m5/5\u001b[0m \u001b[32m━━━━━━━━━━━━━━━━━━━━\u001b[0m\u001b[37m\u001b[0m \u001b[1m0s\u001b[0m 23ms/step - accuracy: 0.8313 - loss: 0.3539 - val_accuracy: 0.6625 - val_loss: 0.8491\n",
      "Epoch 51/100\n",
      "\u001b[1m5/5\u001b[0m \u001b[32m━━━━━━━━━━━━━━━━━━━━\u001b[0m\u001b[37m\u001b[0m \u001b[1m0s\u001b[0m 25ms/step - accuracy: 0.8561 - loss: 0.3228 - val_accuracy: 0.6500 - val_loss: 0.8164\n",
      "Epoch 52/100\n",
      "\u001b[1m5/5\u001b[0m \u001b[32m━━━━━━━━━━━━━━━━━━━━\u001b[0m\u001b[37m\u001b[0m \u001b[1m0s\u001b[0m 23ms/step - accuracy: 0.8510 - loss: 0.3281 - val_accuracy: 0.6375 - val_loss: 1.0080\n",
      "Epoch 53/100\n",
      "\u001b[1m5/5\u001b[0m \u001b[32m━━━━━━━━━━━━━━━━━━━━\u001b[0m\u001b[37m\u001b[0m \u001b[1m0s\u001b[0m 25ms/step - accuracy: 0.8567 - loss: 0.3390 - val_accuracy: 0.6375 - val_loss: 1.1324\n",
      "Epoch 54/100\n",
      "\u001b[1m5/5\u001b[0m \u001b[32m━━━━━━━━━━━━━━━━━━━━\u001b[0m\u001b[37m\u001b[0m \u001b[1m0s\u001b[0m 24ms/step - accuracy: 0.8263 - loss: 0.3426 - val_accuracy: 0.6625 - val_loss: 1.2363\n",
      "Epoch 55/100\n",
      "\u001b[1m5/5\u001b[0m \u001b[32m━━━━━━━━━━━━━━━━━━━━\u001b[0m\u001b[37m\u001b[0m \u001b[1m0s\u001b[0m 24ms/step - accuracy: 0.8630 - loss: 0.3127 - val_accuracy: 0.6500 - val_loss: 1.1940\n",
      "Epoch 56/100\n",
      "\u001b[1m5/5\u001b[0m \u001b[32m━━━━━━━━━━━━━━━━━━━━\u001b[0m\u001b[37m\u001b[0m \u001b[1m0s\u001b[0m 24ms/step - accuracy: 0.8429 - loss: 0.3291 - val_accuracy: 0.6250 - val_loss: 1.1416\n",
      "Epoch 57/100\n",
      "\u001b[1m5/5\u001b[0m \u001b[32m━━━━━━━━━━━━━━━━━━━━\u001b[0m\u001b[37m\u001b[0m \u001b[1m0s\u001b[0m 23ms/step - accuracy: 0.8502 - loss: 0.3375 - val_accuracy: 0.5875 - val_loss: 1.0262\n",
      "Epoch 58/100\n",
      "\u001b[1m5/5\u001b[0m \u001b[32m━━━━━━━━━━━━━━━━━━━━\u001b[0m\u001b[37m\u001b[0m \u001b[1m0s\u001b[0m 24ms/step - accuracy: 0.8367 - loss: 0.3305 - val_accuracy: 0.6250 - val_loss: 1.2196\n",
      "Epoch 59/100\n",
      "\u001b[1m5/5\u001b[0m \u001b[32m━━━━━━━━━━━━━━━━━━━━\u001b[0m\u001b[37m\u001b[0m \u001b[1m0s\u001b[0m 23ms/step - accuracy: 0.8924 - loss: 0.2640 - val_accuracy: 0.6375 - val_loss: 1.3099\n",
      "Epoch 60/100\n",
      "\u001b[1m5/5\u001b[0m \u001b[32m━━━━━━━━━━━━━━━━━━━━\u001b[0m\u001b[37m\u001b[0m \u001b[1m0s\u001b[0m 23ms/step - accuracy: 0.8944 - loss: 0.2666 - val_accuracy: 0.6500 - val_loss: 1.6647\n",
      "Epoch 61/100\n",
      "\u001b[1m5/5\u001b[0m \u001b[32m━━━━━━━━━━━━━━━━━━━━\u001b[0m\u001b[37m\u001b[0m \u001b[1m0s\u001b[0m 23ms/step - accuracy: 0.8619 - loss: 0.3089 - val_accuracy: 0.6375 - val_loss: 1.2536\n",
      "Epoch 62/100\n",
      "\u001b[1m5/5\u001b[0m \u001b[32m━━━━━━━━━━━━━━━━━━━━\u001b[0m\u001b[37m\u001b[0m \u001b[1m0s\u001b[0m 23ms/step - accuracy: 0.8585 - loss: 0.2838 - val_accuracy: 0.6000 - val_loss: 1.1939\n",
      "Epoch 63/100\n",
      "\u001b[1m5/5\u001b[0m \u001b[32m━━━━━━━━━━━━━━━━━━━━\u001b[0m\u001b[37m\u001b[0m \u001b[1m0s\u001b[0m 23ms/step - accuracy: 0.8322 - loss: 0.3502 - val_accuracy: 0.6125 - val_loss: 1.0880\n",
      "Epoch 64/100\n",
      "\u001b[1m5/5\u001b[0m \u001b[32m━━━━━━━━━━━━━━━━━━━━\u001b[0m\u001b[37m\u001b[0m \u001b[1m0s\u001b[0m 23ms/step - accuracy: 0.8654 - loss: 0.3115 - val_accuracy: 0.6250 - val_loss: 1.2061\n",
      "Epoch 65/100\n",
      "\u001b[1m5/5\u001b[0m \u001b[32m━━━━━━━━━━━━━━━━━━━━\u001b[0m\u001b[37m\u001b[0m \u001b[1m0s\u001b[0m 23ms/step - accuracy: 0.8792 - loss: 0.3059 - val_accuracy: 0.6375 - val_loss: 1.3427\n",
      "Epoch 66/100\n",
      "\u001b[1m5/5\u001b[0m \u001b[32m━━━━━━━━━━━━━━━━━━━━\u001b[0m\u001b[37m\u001b[0m \u001b[1m0s\u001b[0m 23ms/step - accuracy: 0.8834 - loss: 0.3340 - val_accuracy: 0.6250 - val_loss: 1.4595\n",
      "Epoch 67/100\n",
      "\u001b[1m5/5\u001b[0m \u001b[32m━━━━━━━━━━━━━━━━━━━━\u001b[0m\u001b[37m\u001b[0m \u001b[1m0s\u001b[0m 23ms/step - accuracy: 0.8300 - loss: 0.3041 - val_accuracy: 0.6375 - val_loss: 1.4073\n",
      "Epoch 68/100\n",
      "\u001b[1m5/5\u001b[0m \u001b[32m━━━━━━━━━━━━━━━━━━━━\u001b[0m\u001b[37m\u001b[0m \u001b[1m0s\u001b[0m 23ms/step - accuracy: 0.8759 - loss: 0.2811 - val_accuracy: 0.6125 - val_loss: 1.3826\n",
      "Epoch 69/100\n",
      "\u001b[1m5/5\u001b[0m \u001b[32m━━━━━━━━━━━━━━━━━━━━\u001b[0m\u001b[37m\u001b[0m \u001b[1m0s\u001b[0m 23ms/step - accuracy: 0.9119 - loss: 0.2267 - val_accuracy: 0.6375 - val_loss: 1.4077\n",
      "Epoch 70/100\n",
      "\u001b[1m5/5\u001b[0m \u001b[32m━━━━━━━━━━━━━━━━━━━━\u001b[0m\u001b[37m\u001b[0m \u001b[1m0s\u001b[0m 25ms/step - accuracy: 0.9294 - loss: 0.2301 - val_accuracy: 0.5875 - val_loss: 1.6072\n",
      "Epoch 71/100\n",
      "\u001b[1m5/5\u001b[0m \u001b[32m━━━━━━━━━━━━━━━━━━━━\u001b[0m\u001b[37m\u001b[0m \u001b[1m0s\u001b[0m 23ms/step - accuracy: 0.9150 - loss: 0.2093 - val_accuracy: 0.6000 - val_loss: 1.8064\n",
      "Epoch 72/100\n",
      "\u001b[1m5/5\u001b[0m \u001b[32m━━━━━━━━━━━━━━━━━━━━\u001b[0m\u001b[37m\u001b[0m \u001b[1m0s\u001b[0m 24ms/step - accuracy: 0.9151 - loss: 0.2236 - val_accuracy: 0.6125 - val_loss: 1.9184\n",
      "Epoch 73/100\n",
      "\u001b[1m5/5\u001b[0m \u001b[32m━━━━━━━━━━━━━━━━━━━━\u001b[0m\u001b[37m\u001b[0m \u001b[1m0s\u001b[0m 23ms/step - accuracy: 0.9025 - loss: 0.2148 - val_accuracy: 0.6125 - val_loss: 2.0885\n",
      "Epoch 74/100\n",
      "\u001b[1m5/5\u001b[0m \u001b[32m━━━━━━━━━━━━━━━━━━━━\u001b[0m\u001b[37m\u001b[0m \u001b[1m0s\u001b[0m 23ms/step - accuracy: 0.9034 - loss: 0.2340 - val_accuracy: 0.6250 - val_loss: 2.1510\n",
      "Epoch 75/100\n",
      "\u001b[1m5/5\u001b[0m \u001b[32m━━━━━━━━━━━━━━━━━━━━\u001b[0m\u001b[37m\u001b[0m \u001b[1m0s\u001b[0m 23ms/step - accuracy: 0.9238 - loss: 0.2094 - val_accuracy: 0.6375 - val_loss: 2.2266\n",
      "Epoch 76/100\n",
      "\u001b[1m5/5\u001b[0m \u001b[32m━━━━━━━━━━━━━━━━━━━━\u001b[0m\u001b[37m\u001b[0m \u001b[1m0s\u001b[0m 23ms/step - accuracy: 0.9328 - loss: 0.1854 - val_accuracy: 0.6000 - val_loss: 2.3843\n",
      "Epoch 77/100\n",
      "\u001b[1m5/5\u001b[0m \u001b[32m━━━━━━━━━━━━━━━━━━━━\u001b[0m\u001b[37m\u001b[0m \u001b[1m0s\u001b[0m 23ms/step - accuracy: 0.9270 - loss: 0.1710 - val_accuracy: 0.6250 - val_loss: 2.4076\n",
      "Epoch 78/100\n",
      "\u001b[1m5/5\u001b[0m \u001b[32m━━━━━━━━━━━━━━━━━━━━\u001b[0m\u001b[37m\u001b[0m \u001b[1m0s\u001b[0m 23ms/step - accuracy: 0.9461 - loss: 0.1478 - val_accuracy: 0.6375 - val_loss: 1.9833\n",
      "Epoch 79/100\n",
      "\u001b[1m5/5\u001b[0m \u001b[32m━━━━━━━━━━━━━━━━━━━━\u001b[0m\u001b[37m\u001b[0m \u001b[1m0s\u001b[0m 23ms/step - accuracy: 0.9201 - loss: 0.2081 - val_accuracy: 0.6250 - val_loss: 2.0661\n",
      "Epoch 80/100\n",
      "\u001b[1m5/5\u001b[0m \u001b[32m━━━━━━━━━━━━━━━━━━━━\u001b[0m\u001b[37m\u001b[0m \u001b[1m0s\u001b[0m 23ms/step - accuracy: 0.9507 - loss: 0.1280 - val_accuracy: 0.6250 - val_loss: 2.3478\n",
      "Epoch 81/100\n",
      "\u001b[1m5/5\u001b[0m \u001b[32m━━━━━━━━━━━━━━━━━━━━\u001b[0m\u001b[37m\u001b[0m \u001b[1m0s\u001b[0m 23ms/step - accuracy: 0.9493 - loss: 0.1480 - val_accuracy: 0.6625 - val_loss: 2.3643\n",
      "Epoch 82/100\n",
      "\u001b[1m5/5\u001b[0m \u001b[32m━━━━━━━━━━━━━━━━━━━━\u001b[0m\u001b[37m\u001b[0m \u001b[1m0s\u001b[0m 26ms/step - accuracy: 0.9501 - loss: 0.1484 - val_accuracy: 0.6250 - val_loss: 2.7933\n",
      "Epoch 83/100\n",
      "\u001b[1m5/5\u001b[0m \u001b[32m━━━━━━━━━━━━━━━━━━━━\u001b[0m\u001b[37m\u001b[0m \u001b[1m0s\u001b[0m 24ms/step - accuracy: 0.9306 - loss: 0.1994 - val_accuracy: 0.6250 - val_loss: 2.8038\n",
      "Epoch 84/100\n",
      "\u001b[1m5/5\u001b[0m \u001b[32m━━━━━━━━━━━━━━━━━━━━\u001b[0m\u001b[37m\u001b[0m \u001b[1m0s\u001b[0m 23ms/step - accuracy: 0.9527 - loss: 0.1355 - val_accuracy: 0.6250 - val_loss: 2.8419\n",
      "Epoch 85/100\n",
      "\u001b[1m5/5\u001b[0m \u001b[32m━━━━━━━━━━━━━━━━━━━━\u001b[0m\u001b[37m\u001b[0m \u001b[1m0s\u001b[0m 23ms/step - accuracy: 0.9482 - loss: 0.1608 - val_accuracy: 0.5875 - val_loss: 2.8332\n",
      "Epoch 86/100\n",
      "\u001b[1m5/5\u001b[0m \u001b[32m━━━━━━━━━━━━━━━━━━━━\u001b[0m\u001b[37m\u001b[0m \u001b[1m0s\u001b[0m 23ms/step - accuracy: 0.9409 - loss: 0.1440 - val_accuracy: 0.6375 - val_loss: 2.8630\n",
      "Epoch 87/100\n",
      "\u001b[1m5/5\u001b[0m \u001b[32m━━━━━━━━━━━━━━━━━━━━\u001b[0m\u001b[37m\u001b[0m \u001b[1m0s\u001b[0m 23ms/step - accuracy: 0.8926 - loss: 0.2518 - val_accuracy: 0.6625 - val_loss: 2.7848\n",
      "Epoch 88/100\n",
      "\u001b[1m5/5\u001b[0m \u001b[32m━━━━━━━━━━━━━━━━━━━━\u001b[0m\u001b[37m\u001b[0m \u001b[1m0s\u001b[0m 23ms/step - accuracy: 0.9355 - loss: 0.1250 - val_accuracy: 0.6125 - val_loss: 2.5622\n",
      "Epoch 89/100\n",
      "\u001b[1m5/5\u001b[0m \u001b[32m━━━━━━━━━━━━━━━━━━━━\u001b[0m\u001b[37m\u001b[0m \u001b[1m0s\u001b[0m 23ms/step - accuracy: 0.9668 - loss: 0.1150 - val_accuracy: 0.5875 - val_loss: 2.3136\n",
      "Epoch 90/100\n",
      "\u001b[1m5/5\u001b[0m \u001b[32m━━━━━━━━━━━━━━━━━━━━\u001b[0m\u001b[37m\u001b[0m \u001b[1m0s\u001b[0m 23ms/step - accuracy: 0.9527 - loss: 0.1200 - val_accuracy: 0.6250 - val_loss: 2.5735\n",
      "Epoch 91/100\n",
      "\u001b[1m5/5\u001b[0m \u001b[32m━━━━━━━━━━━━━━━━━━━━\u001b[0m\u001b[37m\u001b[0m \u001b[1m0s\u001b[0m 23ms/step - accuracy: 0.9699 - loss: 0.1043 - val_accuracy: 0.6500 - val_loss: 3.1243\n",
      "Epoch 92/100\n",
      "\u001b[1m5/5\u001b[0m \u001b[32m━━━━━━━━━━━━━━━━━━━━\u001b[0m\u001b[37m\u001b[0m \u001b[1m0s\u001b[0m 23ms/step - accuracy: 0.9816 - loss: 0.0833 - val_accuracy: 0.6250 - val_loss: 3.1279\n",
      "Epoch 93/100\n",
      "\u001b[1m5/5\u001b[0m \u001b[32m━━━━━━━━━━━━━━━━━━━━\u001b[0m\u001b[37m\u001b[0m \u001b[1m0s\u001b[0m 23ms/step - accuracy: 0.9604 - loss: 0.1081 - val_accuracy: 0.6375 - val_loss: 2.7579\n",
      "Epoch 94/100\n",
      "\u001b[1m5/5\u001b[0m \u001b[32m━━━━━━━━━━━━━━━━━━━━\u001b[0m\u001b[37m\u001b[0m \u001b[1m0s\u001b[0m 23ms/step - accuracy: 0.9789 - loss: 0.0754 - val_accuracy: 0.6250 - val_loss: 2.6269\n",
      "Epoch 95/100\n",
      "\u001b[1m5/5\u001b[0m \u001b[32m━━━━━━━━━━━━━━━━━━━━\u001b[0m\u001b[37m\u001b[0m \u001b[1m0s\u001b[0m 23ms/step - accuracy: 0.9684 - loss: 0.0890 - val_accuracy: 0.6250 - val_loss: 3.1020\n",
      "Epoch 96/100\n",
      "\u001b[1m5/5\u001b[0m \u001b[32m━━━━━━━━━━━━━━━━━━━━\u001b[0m\u001b[37m\u001b[0m \u001b[1m0s\u001b[0m 23ms/step - accuracy: 0.9853 - loss: 0.0707 - val_accuracy: 0.6625 - val_loss: 3.0480\n",
      "Epoch 97/100\n",
      "\u001b[1m5/5\u001b[0m \u001b[32m━━━━━━━━━━━━━━━━━━━━\u001b[0m\u001b[37m\u001b[0m \u001b[1m0s\u001b[0m 23ms/step - accuracy: 0.9930 - loss: 0.0484 - val_accuracy: 0.6500 - val_loss: 2.5311\n",
      "Epoch 98/100\n",
      "\u001b[1m5/5\u001b[0m \u001b[32m━━━━━━━━━━━━━━━━━━━━\u001b[0m\u001b[37m\u001b[0m \u001b[1m0s\u001b[0m 23ms/step - accuracy: 0.9549 - loss: 0.1572 - val_accuracy: 0.7000 - val_loss: 2.4194\n",
      "Epoch 99/100\n",
      "\u001b[1m5/5\u001b[0m \u001b[32m━━━━━━━━━━━━━━━━━━━━\u001b[0m\u001b[37m\u001b[0m \u001b[1m0s\u001b[0m 24ms/step - accuracy: 0.9678 - loss: 0.1310 - val_accuracy: 0.7375 - val_loss: 2.2987\n",
      "Epoch 100/100\n",
      "\u001b[1m5/5\u001b[0m \u001b[32m━━━━━━━━━━━━━━━━━━━━\u001b[0m\u001b[37m\u001b[0m \u001b[1m0s\u001b[0m 28ms/step - accuracy: 0.9865 - loss: 0.0790 - val_accuracy: 0.7125 - val_loss: 2.4504\n",
      "\u001b[1m4/4\u001b[0m \u001b[32m━━━━━━━━━━━━━━━━━━━━\u001b[0m\u001b[37m\u001b[0m \u001b[1m0s\u001b[0m 7ms/step - accuracy: 0.5172 - loss: 2.7622 \n",
      "LSTM Accuracy: 0.53\n"
     ]
    }
   ],
   "source": [
    "from tensorflow.keras.models import Sequential\n",
    "from tensorflow.keras.layers import LSTM, Dense, Dropout\n",
    "from tensorflow.keras.preprocessing.sequence import pad_sequences\n",
    "from tensorflow.keras.utils import to_categorical\n",
    "import numpy as np\n",
    "\n",
    "sequence_features = features\n",
    "n_steps = df_encoded['day'].max()\n",
    "patient_ids = df_encoded['patient_id'].unique()\n",
    "\n",
    "X_seq, y_seq = [], []\n",
    "for pid in patient_ids:\n",
    "    patient_data = df_encoded[df_encoded['patient_id'] == pid].sort_values('day')\n",
    "    seq = scaler.transform(patient_data[sequence_features])\n",
    "    X_seq.append(seq)\n",
    "    y_seq.append(patient_data['recovery_flag'].values[-1])\n",
    "\n",
    "X_seq_padded = pad_sequences(X_seq, maxlen=n_steps, padding='post', dtype='float32')\n",
    "y_seq_encoded = to_categorical(y_seq)\n",
    "\n",
    "split_idx = int(len(X_seq_padded) * 0.8)\n",
    "X_train_lstm, X_test_lstm = X_seq_padded[:split_idx], X_seq_padded[split_idx:]\n",
    "y_train_lstm, y_test_lstm = y_seq_encoded[:split_idx], y_seq_encoded[split_idx:]\n",
    "\n",
    "model = Sequential([\n",
    "    LSTM(128, input_shape=(n_steps, len(sequence_features)), return_sequences=False),\n",
    "    Dropout(0.1),\n",
    "    Dense(64, activation='relu'),\n",
    "    Dropout(0.5),\n",
    "    Dense(128, activation='relu'),\n",
    "    Dropout(0.5),\n",
    "    Dense(64, activation='relu'),\n",
    "    Dropout(0.5),\n",
    "    Dense(2, activation='softmax')  # Adjust output layer to match one-hot encoded target\n",
    "])\n",
    "model.compile(optimizer='adam', loss='categorical_crossentropy', metrics=['accuracy'])  # Use categorical_crossentropy for one-hot encoded targets\n",
    "model.fit(X_train_lstm, y_train_lstm, validation_split=0.2, epochs=100, batch_size=64)\n",
    "\n",
    "loss, acc = model.evaluate(X_test_lstm, y_test_lstm)\n",
    "print(f\"LSTM Accuracy: {acc:.2f}\")\n"
   ]
  },
  {
   "cell_type": "code",
   "execution_count": null,
   "id": "915bd1e9",
   "metadata": {},
   "outputs": [],
   "source": [
    "from xgboost import XGBClassifier\n",
    "from sklearn.model_selection import RandomizedSearchCV\n",
    "from sklearn.metrics import classification_report\n",
    "\n",
    "# Base XGBoost model\n",
    "xgb = XGBClassifier(use_label_encoder=False, eval_metric='logloss', random_state=42)\n"
   ]
  },
  {
   "cell_type": "code",
   "execution_count": null,
   "id": "4cea9b2d",
   "metadata": {},
   "outputs": [],
   "source": [
    "# Define a parameter distribution for XGBoost\n",
    "xgb_param_grid = {\n",
    "    'n_estimators': [100, 200, 300],\n",
    "    'max_depth': [3, 5, 7, 10],\n",
    "    'learning_rate': [0.01, 0.05, 0.1, 0.2],\n",
    "    'subsample': [0.6, 0.8, 1.0],\n",
    "    'colsample_bytree': [0.6, 0.8, 1.0],\n",
    "    'gamma': [0, 1, 5],\n",
    "    'min_child_weight': [1, 3, 5],\n",
    "    'scale_pos_weight': [1, 2, 3]  # use 2 or 3 if complications are rare\n",
    "}\n"
   ]
  },
  {
   "cell_type": "code",
   "execution_count": null,
   "id": "1dca5489",
   "metadata": {},
   "outputs": [
    {
     "name": "stdout",
     "output_type": "stream",
     "text": [
      "Fitting 3 folds for each of 30 candidates, totalling 90 fits\n",
      "Best XGBoost Parameters: {'subsample': 0.8, 'scale_pos_weight': 3, 'n_estimators': 100, 'min_child_weight': 5, 'max_depth': 5, 'learning_rate': 0.1, 'gamma': 5, 'colsample_bytree': 0.8}\n",
      "Best F1 Score: 0.6685073729723308\n"
     ]
    }
   ],
   "source": [
    "xgb_random_search = RandomizedSearchCV(\n",
    "    estimator=xgb,\n",
    "    param_distributions=xgb_param_grid,\n",
    "    scoring='f1',\n",
    "    n_iter=30,             # Number of combinations to try\n",
    "    cv=3,\n",
    "    verbose=2,\n",
    "    n_jobs=-1,\n",
    "    random_state=42\n",
    ")\n",
    "\n",
    "xgb_random_search.fit(X_train, y_train)\n",
    "print(\"Best XGBoost Parameters:\", xgb_random_search.best_params_)\n",
    "print(\"Best F1 Score:\", xgb_random_search.best_score_)\n"
   ]
  },
  {
   "cell_type": "code",
   "execution_count": null,
   "id": "201df13f",
   "metadata": {},
   "outputs": [
    {
     "name": "stdout",
     "output_type": "stream",
     "text": [
      "XGBoost Tuned Model Report:\n",
      "              precision    recall  f1-score   support\n",
      "\n",
      "           0       1.00      0.36      0.53      1794\n",
      "           1       0.51      1.00      0.68      1206\n",
      "\n",
      "    accuracy                           0.62      3000\n",
      "   macro avg       0.76      0.68      0.60      3000\n",
      "weighted avg       0.80      0.62      0.59      3000\n",
      "\n"
     ]
    }
   ],
   "source": [
    "best_xgb = xgb_random_search.best_estimator_\n",
    "y_pred_best_xgb = best_xgb.predict(X_test)\n",
    "\n",
    "print(\"XGBoost Tuned Model Report:\")\n",
    "print(classification_report(y_test, y_pred_best_xgb))\n"
   ]
  },
  {
   "cell_type": "code",
   "execution_count": null,
   "id": "d2c56e68",
   "metadata": {},
   "outputs": [
    {
     "data": {
      "image/png": "[encoded data removed]",
      "text/plain": [
       "<Figure size 640x480 with 1 Axes>"
      ]
     },
     "metadata": {},
     "output_type": "display_data"
    }
   ],
   "source": [
    "import matplotlib.pyplot as plt\n",
    "from xgboost import plot_importance\n",
    "\n",
    "plot_importance(best_xgb)\n",
    "plt.title(\"XGBoost Feature Importance\")\n",
    "plt.show()\n"
   ]
  },
  {
   "cell_type": "code",
   "execution_count": null,
   "id": "9805d5cc",
   "metadata": {},
   "outputs": [
    {
     "data": {
      "text/html": [
       "<div>\n",
       "<style scoped>\n",
       "    .dataframe tbody tr th:only-of-type {\n",
       "        vertical-align: middle;\n",
       "    }\n",
       "\n",
       "    .dataframe tbody tr th {\n",
       "        vertical-align: top;\n",
       "    }\n",
       "\n",
       "    .dataframe thead th {\n",
       "        text-align: right;\n",
       "    }\n",
       "</style>\n",
       "<table border=\"1\" class=\"dataframe\">\n",
       "  <thead>\n",
       "    <tr style=\"text-align: right;\">\n",
       "      <th></th>\n",
       "      <th>patient_id</th>\n",
       "      <th>day</th>\n",
       "      <th>pain_roll3</th>\n",
       "      <th>temp_roll3</th>\n",
       "      <th>alert_flag</th>\n",
       "    </tr>\n",
       "  </thead>\n",
       "  <tbody>\n",
       "  </tbody>\n",
       "</table>\n",
       "</div>"
      ],
      "text/plain": [
       "Empty DataFrame\n",
       "Columns: [patient_id, day, pain_roll3, temp_roll3, alert_flag]\n",
       "Index: []"
      ]
     },
     "execution_count": 67,
     "metadata": {},
     "output_type": "execute_result"
    }
   ],
   "source": [
    "def alert_logic(row):\n",
    "    return 1 if row['pain_roll3'] > 7 and row['temp_roll3'] > 100.4 else 0\n",
    "\n",
    "df_encoded['alert_flag'] = df_encoded.apply(alert_logic, axis=1)\n",
    "alerts = df_encoded[df_encoded['alert_flag'] == 1]\n",
    "alerts[['patient_id', 'day', 'pain_roll3', 'temp_roll3', 'alert_flag']].head()\n"
   ]
  },
  {
   "cell_type": "code",
   "execution_count": null,
   "id": "a6018d10",
   "metadata": {},
   "outputs": [
    {
     "name": "stdout",
     "output_type": "stream",
     "text": [
      "\u001b[1m4/4\u001b[0m \u001b[32m━━━━━━━━━━━━━━━━━━━━\u001b[0m\u001b[37m\u001b[0m \u001b[1m0s\u001b[0m 8ms/step \n",
      "Gradient Boosting Accuracy: 0.60\n",
      "Best Gradient Boosting Accuracy: 0.61\n",
      "Best XGBoost Accuracy: 0.62\n",
      "LSTM Accuracy: 0.53\n"
     ]
    }
   ],
   "source": [
    "from sklearn.metrics import accuracy_score\n",
    "\n",
    "# Calculate accuracy for each model\n",
    "rf_accuracy = accuracy_score(y_test, y_pred_rf)\n",
    "# rf_best_accuracy is not defined because y_pred_rf_best is not available\n",
    "# Uncomment and define y_pred_rf_best if needed\n",
    "gb_accuracy = accuracy_score(y_test, y_pred_gb)\n",
    "gb_best_accuracy = accuracy_score(y_test, y_pred_gb_best)\n",
    "xgb_best_accuracy = accuracy_score(y_test, y_pred_best_xgb)\n",
    "lstm_accuracy = accuracy_score(y_test_lstm.argmax(axis=1), model.predict(X_test_lstm).argmax(axis=1))\n",
    "\n",
    "# Print the accuracies\n",
    "# rf_best_accuracy is not defined, so we will not print it\n",
    "# Uncomment and define rf_best_accuracy if needed\n",
    "print(f\"Gradient Boosting Accuracy: {gb_accuracy:.2f}\")\n",
    "print(f\"Best Gradient Boosting Accuracy: {gb_best_accuracy:.2f}\")\n",
    "print(f\"Best XGBoost Accuracy: {xgb_best_accuracy:.2f}\")\n",
    "print(f\"LSTM Accuracy: {lstm_accuracy:.2f}\")"
   ]
  }
 ],
 "metadata": {
  "kernelspec": {
   "display_name": "Python 3",
   "language": "python",
   "name": "python3"
  },
  "language_info": {
   "codemirror_mode": {
    "name": "ipython",
    "version": 3
   },
   "file_extension": ".py",
   "mimetype": "text/x-python",
   "name": "python",
   "nbconvert_exporter": "python",
   "pygments_lexer": "ipython3",
   "version": "3.11.0"
  }
 },
 "nbformat": 4,
 "nbformat_minor": 5
}
